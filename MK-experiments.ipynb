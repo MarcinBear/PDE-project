{
 "cells": [
  {
   "cell_type": "code",
   "execution_count": 1,
   "id": "e09c1b06-90ef-4dd7-b440-ce30f82b630f",
   "metadata": {},
   "outputs": [],
   "source": [
    "using Plots"
   ]
  },
  {
   "cell_type": "code",
   "execution_count": null,
   "id": "3c5cc5ab",
   "metadata": {},
   "outputs": [],
   "source": [
    "\n",
    "\n",
    "function grid_circle(; Δr::Float64, Δθ::Float64, r::Float64)\n",
    "    rs = 0.0:Δr:r\n",
    "    θs = 0.0:Δθ:2π\n",
    "    nr, nθ = length(rs), length(θs)\n",
    "    rr = rs' .* ones(nr)\n",
    "    θθ = θs' .* ones(nθ)\n",
    "    return (nr, nθ, rr, θθ)\n",
    "end;\n",
    "\n"
   ]
  },
  {
   "cell_type": "code",
   "execution_count": 2,
   "id": "2648cc28",
   "metadata": {},
   "outputs": [],
   "source": [
    "\n",
    "\n",
    "\n",
    "\n",
    "function wave2D_FFD_circle(; Δr::Float64, \n",
    "                           Δθ::Float64,\n",
    "                           Δt::Float64, \n",
    "                           c::Float64, \n",
    "                           N::Int64,\n",
    "                           ICs::Dict, \n",
    "                           BCs::Dict, \n",
    "                           grid_params::Tuple)\n",
    "\n",
    "    (nr, nθ, rr, θθ) = grid_params\n",
    "    i = collect(2:nr-1)\n",
    "    j = collect(2:nθ-1)\n",
    "    \n",
    "    u_Ay, u_By = BCs[\"u(A, y, t)\"], BCs[\"u(B, y, t)\"]\n",
    "    u_xC, u_xD = BCs[\"u(x, C, t)\"], BCs[\"u(x, D, t)\"]\n",
    "    I, V = ICs[\"I(x, y)\"], ICs[\"V(x, y)\"]\n",
    "\n",
    "    rr_ = c * Δt / Δr\n",
    "    rθ = c * Δt / Δθ\n",
    "\n",
    "#     if rx^2 + ry^2 > 1 # checking if method is stable\n",
    "#         (@warn \"Stability condition is not met! (rx^2 + ry^2 > 1)\")\n",
    "#     end\n",
    "\n",
    "    u = zeros(nr, nθ, N)\n",
    "    u[:,  :, 1] = I.(xx, yy)                                                        #   <- first IC (t = 0)\n",
    "    u[i,  j, 2] = (u[i, j, 1] .+ Δt .* V.(xx, yy)[i, j]                             # }\n",
    "                .+ rx^2/2 * (u[i.+1, j, 1] .- 2 .* u[i, j, 1] .+ u[i.-1, j, 1])     # } <- second IC (t = 1)\n",
    "                .+ ry^2/2 * (u[i, j.+1, 1] .- 2 .* u[i, j, 1] .+ u[i, j.-1, 1]))    # }\n",
    "\n",
    "    u[1,  :, 1:2] .= u_Ay  # }\n",
    "    u[:,  1, 1:2] .= u_xC  # } <- putting BCs\n",
    "    u[ny, :, 1:2] .= u_By  # }\n",
    "    u[:, nx, 1:2] .= u_xD  # }\n",
    "\n",
    "    for t in 3:N # Solving for t = 2, 3, ..., T\n",
    "        u[i, j, t] = (2 .* u[i, j, t.-1] .- u[i, j, t.-2]\n",
    "                    .+ rx^2 * (u[i.+1, j, t.-1] .- 2 .* u[i, j, t.-1] .+ u[i.-1, j, t.-1]) \n",
    "                    .+ ry^2 * (u[i, j.+1, t.-1] .- 2 .* u[i, j, t.-1] .+ u[i, j.-1, t.-1]))              \n",
    "    end\n",
    "    return u\n",
    "end;\n",
    "\n"
   ]
  },
  {
   "cell_type": "code",
   "execution_count": null,
   "id": "75a0b877",
   "metadata": {},
   "outputs": [],
   "source": []
  }
 ],
 "metadata": {
  "kernelspec": {
   "display_name": "Julia 1.9.1",
   "language": "julia",
   "name": "julia-1.9"
  },
  "language_info": {
   "file_extension": ".jl",
   "mimetype": "application/julia",
   "name": "julia",
   "version": "1.9.1"
  }
 },
 "nbformat": 4,
 "nbformat_minor": 5
}
