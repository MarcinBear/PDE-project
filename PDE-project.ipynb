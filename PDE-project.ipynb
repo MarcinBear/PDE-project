{
 "cells": [
  {
   "cell_type": "markdown",
   "metadata": {},
   "source": [
    "<div class=\"text_center\", style=\"font-family: 'Times New Roman', Times, serif;\n",
    "                                 text-align: center;\n",
    "                                 font-weight: normal;\n",
    "                                 font-size: 18px;\n",
    "                                 padding: 0px 100px 0px 0px;\">\n",
    "    <span style=\"font-size: 15px; font-style: italic;\">\n",
    "        Partial Differential Equations with Applications in Physics and Industry\n",
    "    </span>\n",
    "    <hr>\n",
    "    <br>\n",
    "    <br> \n",
    "    <span style=\"font-size: 40px;\"> Wave equation for vibrating membrane </span>\n",
    "    <br>\n",
    "    <br>\n",
    "    <br>\n",
    "    Marcin Kostrzewa, &nbsp;Marcin Miśkiewicz\n",
    "</div>"
   ]
  },
  {
   "cell_type": "markdown",
   "metadata": {},
   "source": [
    "<div class=\"text\", style=\"font-family: 'Times New Roman', Times, serif;\n",
    "                          font-weight: normal;\n",
    "                          text-align: justify;\n",
    "                          font-size: 18px;\n",
    "                          padding: 0px 100px 0px 0px;\">\n",
    "    <h3>Abstract</h3>\n",
    "    <hr>\n",
    "    Lorem ipsum dolor sit amet, consectetur adipiscing elit, sed do eiusmod tempor incididunt ut labore et dolore magna aliqua. Ut enim ad minim veniam, quis nostrud exercitation ullamco laboris nisi ut aliquip ex ea commodo consequat. Duis aute irure dolor in reprehenderit in voluptate velit esse cillum dolore eu fugiat nulla pariatur. Excepteur sint occaecat cupidatat non proident, sunt in culpa qui officia deserunt mollit anim id est laborum.\n",
    "</div>"
   ]
  },
  {
   "cell_type": "markdown",
   "metadata": {},
   "source": [
    "<div class=\"text\", style=\"font-family: 'Times New Roman', Times, serif;\n",
    "                          font-weight: normal;\n",
    "                          text-align: justify;\n",
    "                          font-size: 18px;\n",
    "                          padding: 0px 100px 0px 0px;\">\n",
    "\n",
    "$$\\frac{\\partial^2 u}{\\partial t^2} = c^2\\Delta u$$\n",
    "\n",
    "$\\text{for } (x, y) \\in \\Omega \\subset \\mathbb{R}^d, \\; t \\in [0, T]$, where $ c $ is a positive constant related to the speed of wave propagation in a given medium, and\n",
    "$$\\Delta u = \\frac{\\partial^2 u}{\\partial x^2} + \\frac{\\partial^2 u}{\\partial y^2}.$$\n",
    "\n",
    "</div>"
   ]
  },
  {
   "cell_type": "markdown",
   "metadata": {},
   "source": [
    "<div class=\"text\", style=\"font-family: 'Times New Roman', Times, serif;\n",
    "                          font-weight: normal;\n",
    "                          text-align: justify;\n",
    "                          font-size: 18px;\n",
    "                          padding: 0px 100px 0px 0px;\">\n",
    "    <h3>Results</h3>\n",
    "    <hr>\n",
    "    Lorem ipsum dolor sit amet, consectetur adipiscing elit, sed do eiusmod tempor incididunt ut labore et dolore magna aliqua. Ut enim ad minim veniam, quis nostrud exercitation ullamco laboris nisi ut aliquip ex ea commodo consequat. Duis aute irure dolor in reprehenderit in voluptate velit esse cillum dolore eu fugiat nulla pariatur. Excepteur sint occaecat cupidatat non proident, sunt in culpa qui officia deserunt mollit anim id est laborum. <a href=#1>[1]</a>\n",
    "</div>"
   ]
  },
  {
   "cell_type": "code",
   "execution_count": 1,
   "metadata": {},
   "outputs": [],
   "source": [
    "using Plots, Measures, LinearAlgebra, Logging, LaTeXStrings\n",
    "Logging.disable_logging(Logging.Info); # disable ugly messages after generating animations\n",
    "\n",
    "# plotting constants\n",
    "COLORMAP_1 = cgrad([:midnightblue, :purple, :purple, :skyblue, :cyan, :cyan, :white])\n",
    "SIZE_1 = (1000, 500);"
   ]
  },
  {
   "cell_type": "code",
   "execution_count": 2,
   "metadata": {},
   "outputs": [
    {
     "data": {
      "text/plain": [
       "grid (generic function with 1 method)"
      ]
     },
     "execution_count": 2,
     "metadata": {},
     "output_type": "execute_result"
    }
   ],
   "source": [
    "function grid(; Δx::Float64, Δy::Float64, Ω::Dict) \n",
    "    A, B, C, D = Ω[\"A\"], Ω[\"B\"], Ω[\"C\"], Ω[\"D\"]\n",
    "    xs = A:Δx:B\n",
    "    ys = C:Δy:D\n",
    "    nx, ny = length(xs), length(ys)\n",
    "    xx = xs' .* ones(ny)\n",
    "    yy = ys  .* ones(nx)'\n",
    "    return (nx, ny, xx, yy)\n",
    "end"
   ]
  },
  {
   "cell_type": "code",
   "execution_count": 3,
   "metadata": {},
   "outputs": [
    {
     "data": {
      "text/plain": [
       "explicit_finite_difference (generic function with 1 method)"
      ]
     },
     "execution_count": 3,
     "metadata": {},
     "output_type": "execute_result"
    }
   ],
   "source": [
    "function explicit_finite_difference(; Δx::Float64, \n",
    "                                      Δy::Float64, \n",
    "                                      Δt::Float64, \n",
    "                                      c::Float64, \n",
    "                                      N::Int64,\n",
    "                                      ICs::Dict, \n",
    "                                      BCs::Dict, \n",
    "                                      grid_params::Tuple)\n",
    "\n",
    "    (nx, ny, xx, yy) = grid_params\n",
    "    i = collect(2:nx-1)\n",
    "    j = collect(2:ny-1)\n",
    "    \n",
    "    u_Ay, u_By = BCs[\"u(A, y, t)\"], BCs[\"u(B, y, t)\"]\n",
    "    u_xC, u_xD = BCs[\"u(x, C, t)\"], BCs[\"u(x, D, t)\"]\n",
    "    u0,   u_t0 = ICs[\"u(x, y, 0)\"], ICs[\"∂u/∂t(x, y, 0)\"]\n",
    "\n",
    "    rx = c * Δt / Δx\n",
    "    ry = c * Δt / Δy\n",
    "    r = rx + ry\n",
    "\n",
    "    if r < 1/√2\n",
    "        (@warn \"CFL stability condition is not met! (r = $r < 1/√2)\")\n",
    "    end\n",
    "\n",
    "    u = zeros(ny, nx, N)\n",
    "    u[:,  :, 1] = u0.(xx, yy)  # t = 0, first IC\n",
    "    u[i,  j, 2] = (0.5 .* (u[i, j, 1] * (2 - 2*(rx^2 + ry^2)) \n",
    "                .+ rx^2 * (u[i.+1, j, 1] .+ u[i.-1, j, 1]) \n",
    "                .+ ry^2 * (u[i, j.+1, 1] .+ u[i, j.-1, 1])) \n",
    "                .+ Δt.*u_t0.(xx, yy)[i, j])  # t = 1, second IC\n",
    "\n",
    "    u[1,  :, 1:2] .= u_Ay\n",
    "    u[:,  1, 1:2] .= u_xC\n",
    "    u[ny, :, 1:2] .= u_By\n",
    "    u[:, nx, 1:2] .= u_xD\n",
    "\n",
    "    for t in 3:N # t = 2, 3, ..., T\n",
    "        u[i, j, t] = (u[i, j, t.-1] * (2 - 2*(rx^2 + ry^2)) \n",
    "                    .+ rx^2 * (u[i.+1, j, t.-1] .+ u[i.-1, j, t.-1]) \n",
    "                    .+ ry^2 * (u[i, j.+1, t.-1] .+ u[i, j.-1, t.-1]) \n",
    "                    .- u[i, j, t.-2])              \n",
    "    end\n",
    "    return u\n",
    "end"
   ]
  },
  {
   "cell_type": "code",
   "execution_count": 4,
   "metadata": {},
   "outputs": [],
   "source": [
    "ICs = Dict(  # Initial Conditions\n",
    "     \"u(x, y, 0)\"     => (x, y) -> exp(-x^2 - y^2),\n",
    "     \"∂u/∂t(x, y, 0)\" => (x, y) -> 0 #-exp(-x^2 - y^2)\n",
    ")\n",
    "\n",
    "\n",
    "BCs = Dict(  # Dirichlet Boundary Conditions\n",
    "    \"u(A, y, t)\" => 0,\n",
    "    \"u(B, y, t)\" => 0,\n",
    "    \"u(x, C, t)\" => 0,\n",
    "    \"u(x, D, t)\" => 0,\n",
    ")\n",
    "\n",
    "Ω = Dict(  # Domain - rectangle\n",
    "    \"A\" => -5,  # x min\n",
    "    \"B\" =>  5,  # x max\n",
    "    \"C\" => -5,  # y min\n",
    "    \"D\" =>  5,  # y max\n",
    ")\n",
    "\n",
    "\n",
    "Δx = 0.1 \n",
    "Δy = 0.1\n",
    "Δt = 0.1\n",
    "c  = 0.5\n",
    "N  = 700\n",
    "\n",
    "grid_params = grid(Δx=Δx, Δy=Δy, Ω=Ω)\n",
    "u = explicit_finite_difference(Δx=Δx, Δy=Δy, Δt=Δt, c=c, N=N, ICs=ICs, BCs=BCs, grid_params=grid_params);"
   ]
  },
  {
   "cell_type": "code",
   "execution_count": 5,
   "metadata": {},
   "outputs": [
    {
     "data": {
      "text/plain": [
       "wave_animation (generic function with 1 method)"
      ]
     },
     "execution_count": 5,
     "metadata": {},
     "output_type": "execute_result"
    }
   ],
   "source": [
    "function wave_animation(u::Array{Float64, 3}, grid_params::Tuple; plot_size::Tuple=SIZE_1, colormap=COLORMAP_1, title = \"\", kwargs...)\n",
    "\n",
    "    frames = size(u)[3]\n",
    "    (nx, ny, xx, yy) = grid_params\n",
    "    xs, ys = xx[1, :], yy[:, 1]\n",
    "    l = @layout [a{0.6w} b]\n",
    "    camera_angles = LinRange(0, 360, frames)\n",
    "\n",
    "    an = @animate for t in 1:frames\n",
    "\n",
    "        p1 = surface(xx, yy, u[:, :, t],\n",
    "                    zlims=(extrema(u)),\n",
    "                    colormap=colormap,\n",
    "                    colorbar=false,\n",
    "                    zlabel=L\"u\")\n",
    "\n",
    "        p2 = heatmap(xs, ys, u[:, :, t], \n",
    "                    colormap=colormap)\n",
    "\n",
    "        plot(p1, p2, \n",
    "            layout=l, \n",
    "            xlabel=L\"x\",\n",
    "            ylabel=L\"y\",\n",
    "            clims=extrema(u),\n",
    "            xlims=extrema(xs),\n",
    "            ylims=extrema(ys), \n",
    "            camera=(camera_angles[t], 30), \n",
    "            plot_title= title * \"\\n\\n\" * latexstring(\" (t = $(round(t*Δt, digits=2)))\"),\n",
    "            aspect_ratio=:equal, \n",
    "            size=plot_size,\n",
    "            link=:all;\n",
    "            kwargs...)\n",
    "    end\n",
    "    return an\n",
    "end\n"
   ]
  },
  {
   "cell_type": "code",
   "execution_count": 6,
   "metadata": {},
   "outputs": [],
   "source": [
    "an1 = wave_animation(u[:, :, 1:500], grid_params, title = L\"u(x, y, 0) = e^{-(x^2 + y^2)}, \\quad u_t(x, y, 0) = 0\")\n",
    "gif(an1, \"./media/test.gif\", fps = 25);"
   ]
  },
  {
   "cell_type": "markdown",
   "metadata": {},
   "source": [
    "<img src=\"./media/test.gif\">"
   ]
  },
  {
   "cell_type": "markdown",
   "metadata": {},
   "source": [
    "<div class=\"text\", style=\"font-family: 'Times New Roman', Times, serif;\n",
    "                          font-weight: normal;\n",
    "                          text-align: justify;\n",
    "                          font-size: 18px;\n",
    "                          padding: 0px 100px 0px 0px;\">\n",
    "    <h3>References</h3>\n",
    "    <hr>\n",
    "[1] &nbsp;<a id=\"1\", href = https://hplgit.github.io/fdm-book/doc/pub/book/sphinx/._book008.html>Center for Biomedical Computing, Finite difference methods for 2D and 3D wave equations.</a>\n",
    "<br>\n",
    "[2]&nbsp; <a id=\"2\", href = https://www.google.com/>empty</a>\n",
    "<br>\n",
    "[3]&nbsp; <a id=\"3\", href = https://www.google.com/>empty</a>\n",
    "<br>\n",
    "[4]&nbsp; <a id=\"4\", href = https://www.google.com/>empty</a>\n",
    "<br>\n",
    "[5]&nbsp; <a id=\"5\", href = https://www.google.com/>empty</a>\n",
    "</div>"
   ]
  }
 ],
 "metadata": {
  "kernelspec": {
   "display_name": "Julia 1.8.5",
   "language": "julia",
   "name": "julia-1.8"
  },
  "language_info": {
   "file_extension": ".jl",
   "mimetype": "application/julia",
   "name": "julia",
   "version": "1.8.5"
  }
 },
 "nbformat": 4,
 "nbformat_minor": 2
}
