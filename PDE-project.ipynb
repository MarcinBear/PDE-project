{
 "cells": [
  {
   "cell_type": "markdown",
   "metadata": {},
   "source": [
    "<div class=\"text_center\", style=\"font-family: 'Times New Roman', Times, serif;\n",
    "                                 text-align: center;\n",
    "                                 font-weight: normal;\n",
    "                                 font-size: 18px;\n",
    "                                 padding: 0px 100px 0px 0px;\">\n",
    "    <span style=\"font-size: 15px; font-style: italic;\">\n",
    "        Partial Differential Equations with Applications in Physics and Industry\n",
    "    </span>\n",
    "    <hr>\n",
    "    <br>\n",
    "    <br> \n",
    "    <span style=\"font-size: 40px;\"> Wave equation for vibrating membrane </span>\n",
    "    <br>\n",
    "    <br>\n",
    "    <br>\n",
    "    Marcin Kostrzewa, &nbsp;Marcin Miśkiewicz\n",
    "</div>"
   ]
  },
  {
   "cell_type": "markdown",
   "metadata": {},
   "source": [
    "<div class=\"text\", style=\"font-family: 'Times New Roman', Times, serif;\n",
    "                          font-weight: normal;\n",
    "                          text-align: justify;\n",
    "                          font-size: 18px;\n",
    "                          padding: 0px 100px 0px 0px;\">\n",
    "    <h3>Abstract</h3>\n",
    "    <hr>\n",
    "    Lorem ipsum dolor sit amet, consectetur adipiscing elit, sed do eiusmod tempor incididunt ut labore et dolore magna aliqua. Ut enim ad minim veniam, quis nostrud exercitation ullamco laboris nisi ut aliquip ex ea commodo consequat. Duis aute irure dolor in reprehenderit in voluptate velit esse cillum dolore eu fugiat nulla pariatur. Excepteur sint occaecat cupidatat non proident, sunt in culpa qui officia deserunt mollit anim id est laborum.\n",
    "</div>"
   ]
  },
  {
   "cell_type": "markdown",
   "metadata": {},
   "source": [
    "<div class=\"text\", style=\"font-family: 'Times New Roman', Times, serif;\n",
    "                          font-weight: normal;\n",
    "                          text-align: justify;\n",
    "                          font-size: 18px;\n",
    "                          padding: 0px 100px 0px 0px;\">\n",
    "    <h3>Results</h3>\n",
    "    <hr>\n",
    "    Lorem ipsum dolor sit amet, consectetur adipiscing elit, sed do eiusmod tempor incididunt ut labore et dolore magna aliqua. Ut enim ad minim veniam, quis nostrud exercitation ullamco laboris nisi ut aliquip ex ea commodo consequat. Duis aute irure dolor in reprehenderit in voluptate velit esse cillum dolore eu fugiat nulla pariatur. Excepteur sint occaecat cupidatat non proident, sunt in culpa qui officia deserunt mollit anim id est laborum.\n",
    "</div>"
   ]
  },
  {
   "cell_type": "code",
   "execution_count": 27,
   "metadata": {},
   "outputs": [],
   "source": [
    "using Plots, Measures, LinearAlgebra, Logging\n",
    "Logging.disable_logging(Logging.Info); # disable ugly messages after generating animations"
   ]
  },
  {
   "cell_type": "code",
   "execution_count": 28,
   "metadata": {},
   "outputs": [
    {
     "data": {
      "text/plain": [
       "explicit_finite_difference (generic function with 1 method)"
      ]
     },
     "execution_count": 28,
     "metadata": {},
     "output_type": "execute_result"
    }
   ],
   "source": [
    "\n",
    "function grid(; Δx::Float64, Δy::Float64, Domain::NamedTuple)\n",
    "    (A, B, C, D) = Domain\n",
    "    xs = A:Δx:B\n",
    "    ys = C:Δy:D\n",
    "    nx, ny = length(xs), length(ys)\n",
    "    xx = xs' .* ones(ny)\n",
    "    yy = ys  .* ones(nx)'\n",
    "    return (nx, ny, xx, yy)\n",
    "end\n",
    "\n",
    "\n",
    "function explicit_finite_difference(; Δx::Float64, \n",
    "                                      Δy::Float64, \n",
    "                                      Δt::Float64, \n",
    "                                      c::Float64, \n",
    "                                      N::Int64,\n",
    "                                      IC::Function, \n",
    "                                      BCs::NamedTuple, \n",
    "                                      grid_params::Tuple)\n",
    "\n",
    "    (nx, ny, xx, yy) = grid_params\n",
    "    (u_Ay, u_By, u_xC, u_xD) = BCs\n",
    "\n",
    "    rx = c * Δt / Δx\n",
    "    ry = c * Δt / Δy\n",
    "    r = rx + ry\n",
    "\n",
    "    if r < 1/√2\n",
    "        (@warn \"CFL stability condition is not met! (r = $r < 1/√2)\")\n",
    "    end\n",
    "\n",
    "    u = zeros(ny, nx, N)\n",
    "    u[:,  :, 1] = IC.(xx, yy)\n",
    "    u[:,  :, 2] = IC.(xx, yy)\n",
    "    u[1,  :, 1] .= u_Ay\n",
    "    u[:,  1, 1] .= u_xC\n",
    "    u[ny, :, 1] .= u_By\n",
    "    u[:, nx, 1] .= u_xD\n",
    "    i = collect(2:nx-1)\n",
    "    j = collect(2:ny-1)\n",
    "\n",
    "    for t in 3:N \n",
    "        u[i, j, t] = (u[i, j, t.-1] * (2 - 2*(rx^2 + ry^2)) \n",
    "                    .+ rx^2 * (u[i.+1, j, t.-1] .+ u[i.-1, j, t.-1]) \n",
    "                    .+ ry^2 * (u[i, j.+1, t.-1] .+ u[i, j.-1, t.-1]) \n",
    "                    .- u[i, j, t.-2])\n",
    "                        \n",
    "    end\n",
    "    return u\n",
    "end"
   ]
  },
  {
   "cell_type": "code",
   "execution_count": 29,
   "metadata": {},
   "outputs": [],
   "source": [
    "IC = (x, y) -> exp(-x^2 - y^2)\n",
    "\n",
    "BCs = (  # Dirichlet Boundary Conditions\n",
    "    u_Ay = 0,\n",
    "    u_By = 0,\n",
    "    u_xC = 0,\n",
    "    u_xD = 0,\n",
    ")\n",
    "\n",
    "Domain = (   # Rectangle\n",
    "    A = -5,  # x min\n",
    "    B =  5,  # x max\n",
    "    C = -5,  # y min\n",
    "    D =  5,  # y max\n",
    ")\n",
    "\n",
    "Δx = 0.1 \n",
    "Δy = 0.1\n",
    "Δt = 0.1\n",
    "c  = 0.7\n",
    "N  = 700\n",
    "\n",
    "grid_params = grid(Δx=Δx, Δy=Δy, Domain=Domain)\n",
    "(nx, ny, xx, yy) = grid_params\n",
    "u = explicit_finite_difference(Δx=Δx, Δy=Δy, Δt=Δt, c=c, N=N, IC=IC, BCs=BCs, grid_params=grid_params);"
   ]
  },
  {
   "cell_type": "code",
   "execution_count": 30,
   "metadata": {},
   "outputs": [],
   "source": [
    "colormap = cgrad([:midnightblue, :purple, :purple, :skyblue, :cyan, :cyan, :white])\n",
    "frames = size(u)[3] * 0.5 |> round |> Int\n",
    "camera_angles = LinRange(0, 360, frames)\n",
    "l = @layout [a{0.6w} b]\n",
    "xs, ys = xx[1, :], yy[:, 1]\n",
    "SIZE = (1000, 500)\n",
    "\n",
    "\n",
    "an = @animate for t in 1:frames\n",
    "\n",
    "    p1 = surface(xx, yy, u[:, :, t],\n",
    "                 zlims=(extrema(u)),\n",
    "                 colormap=colormap,\n",
    "                 colorbar=false,\n",
    "                 zlabel=\"u\")\n",
    "\n",
    "    p2 = heatmap(xs, ys, u[:, :, t],\n",
    "                  colormap=colormap)\n",
    "\n",
    "    plot(p1, p2, \n",
    "        layout=l, \n",
    "        xlabel=\"x\",\n",
    "        ylabel=\"y\",\n",
    "        clims=extrema(u),\n",
    "        xlims=extrema(xs),\n",
    "        ylims=extrema(ys), \n",
    "        camera=(camera_angles[t], 30), \n",
    "        plot_title=\"t = $(round(t*Δt, digits=2))\",\n",
    "        aspect_ratio=:equal, \n",
    "        size=SIZE,\n",
    "        link=:all)\n",
    "end\n",
    "\n",
    "gif(an, \"./media/test.gif\", fps = 25);"
   ]
  },
  {
   "cell_type": "markdown",
   "metadata": {},
   "source": [
    "<img src=\"./media/test.gif\">"
   ]
  },
  {
   "cell_type": "code",
   "execution_count": null,
   "metadata": {},
   "outputs": [],
   "source": []
  }
 ],
 "metadata": {
  "kernelspec": {
   "display_name": "Julia 1.8.5",
   "language": "julia",
   "name": "julia-1.8"
  },
  "language_info": {
   "file_extension": ".jl",
   "mimetype": "application/julia",
   "name": "julia",
   "version": "1.8.5"
  }
 },
 "nbformat": 4,
 "nbformat_minor": 2
}
